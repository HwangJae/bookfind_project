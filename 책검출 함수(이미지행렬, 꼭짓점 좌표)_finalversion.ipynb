{
 "cells": [
  {
   "cell_type": "markdown",
   "metadata": {},
   "source": [
    "# 함수 version1 (순서 3, 4, 2, 1)"
   ]
  },
  {
   "cell_type": "code",
   "execution_count": 5,
   "metadata": {},
   "outputs": [],
   "source": [
    "import cv2\n",
    "import numpy as np"
   ]
  },
  {
   "cell_type": "code",
   "execution_count": 6,
   "metadata": {},
   "outputs": [],
   "source": [
    "def book_find(image) :\n",
    "    \n",
    "    _, src_bin = cv2.threshold(image, 217 ,255, cv2.THRESH_BINARY)\n",
    "    src_bin = 255 - src_bin  \n",
    "    \n",
    "    dst2 = cv2.medianBlur(src_bin,11) \n",
    "\n",
    "    kernel = cv2.getStructuringElement(cv2.MORPH_CROSS, (1,1))   # 큼직한 노이즈 제거 : 모폴로지\n",
    "\n",
    "    dst1 = cv2.morphologyEx(src_bin, cv2.MORPH_ERODE, kernel, iterations=1)\n",
    "    dst1 = cv2.morphologyEx(src_bin, cv2.MORPH_DILATE, None, iterations=1)\n",
    "\n",
    "    contours, hierarchy = cv2.findContours(dst1,cv2.RETR_TREE,cv2.CHAIN_APPROX_SIMPLE)\n",
    "\n",
    "    a = []\n",
    "    for contour in contours:\n",
    "        if cv2.contourArea(contour) > 10000 and cv2.contourArea(contour) < 25000: \n",
    "\n",
    "            x, y, w, h = cv2.boundingRect(contour)\n",
    "            cv2.rectangle(src, (x,y), (x+w, y+h), (255,0 ,0 ), 1)\n",
    "            cropped_img = src[y: y+h, x: x+w]\n",
    "            corner = np.array(((x, y),(x+w, y),(x+w, y+h), (x, y+h)))\n",
    "            book_list = [(cropped_img), (corner)]\n",
    "            a.append(book_list)\n",
    "            \n",
    "    return(a)"
   ]
  },
  {
   "cell_type": "code",
   "execution_count": 7,
   "metadata": {
    "scrolled": true
   },
   "outputs": [
    {
     "data": {
      "text/plain": [
       "[[array([[255, 255, 255, ..., 255, 255, 255],\n",
       "         [255,  56,  59, ..., 243, 242, 228],\n",
       "         [255,  56,  56, ..., 236, 238, 227],\n",
       "         ...,\n",
       "         [255, 247, 253, ..., 234, 105, 211],\n",
       "         [255, 246, 253, ..., 225,  56, 138],\n",
       "         [255, 243, 251, ..., 216, 109, 101]], dtype=uint8),\n",
       "  array([[133,  36],\n",
       "         [183,  36],\n",
       "         [183, 444],\n",
       "         [133, 444]])],\n",
       " [array([[255, 255, 255, ..., 255, 255, 255],\n",
       "         [255, 184, 233, ..., 175,  76,  66],\n",
       "         [255, 183, 236, ..., 205,  99,  68],\n",
       "         ...,\n",
       "         [255, 254, 253, ..., 248, 246, 234],\n",
       "         [255, 253, 253, ..., 249, 247, 234],\n",
       "         [255, 231, 234, ..., 248, 244, 233]], dtype=uint8),\n",
       "  array([[183,  35],\n",
       "         [236,  35],\n",
       "         [236, 443],\n",
       "         [183, 443]])],\n",
       " [array([[255, 255, 255, ..., 255, 255, 255],\n",
       "         [255,  50,  59, ..., 245, 248, 237],\n",
       "         [255,  46,  89, ..., 239, 239, 226],\n",
       "         ...,\n",
       "         [255, 249, 252, ..., 253, 250, 170],\n",
       "         [255, 252, 253, ..., 252, 250, 174],\n",
       "         [255, 249, 250, ..., 238, 238, 175]], dtype=uint8),\n",
       "  array([[ 82,  35],\n",
       "         [130,  35],\n",
       "         [130, 445],\n",
       "         [ 82, 445]])],\n",
       " [array([[255, 255, 255, ..., 255, 255, 255],\n",
       "         [255,  89,  92, ..., 240, 238, 207],\n",
       "         [255,  85,  95, ..., 225, 221, 226],\n",
       "         ...,\n",
       "         [255, 238, 238, ..., 213, 180, 175],\n",
       "         [255, 239, 239, ..., 212, 178, 180],\n",
       "         [255, 242, 241, ..., 184, 185, 186]], dtype=uint8),\n",
       "  array([[ 22,  33],\n",
       "         [ 78,  33],\n",
       "         [ 78, 446],\n",
       "         [ 22, 446]])]]"
      ]
     },
     "execution_count": 7,
     "metadata": {},
     "output_type": "execute_result"
    }
   ],
   "source": [
    "src = cv2.imread('rebook1.png', 0)\n",
    "book_find(src)"
   ]
  },
  {
   "cell_type": "code",
   "execution_count": null,
   "metadata": {},
   "outputs": [],
   "source": []
  }
 ],
 "metadata": {
  "kernelspec": {
   "display_name": "Python 3",
   "language": "python",
   "name": "python3"
  },
  "language_info": {
   "codemirror_mode": {
    "name": "ipython",
    "version": 3
   },
   "file_extension": ".py",
   "mimetype": "text/x-python",
   "name": "python",
   "nbconvert_exporter": "python",
   "pygments_lexer": "ipython3",
   "version": "3.7.6"
  },
  "toc": {
   "base_numbering": 1,
   "nav_menu": {},
   "number_sections": true,
   "sideBar": true,
   "skip_h1_title": false,
   "title_cell": "Table of Contents",
   "title_sidebar": "Contents",
   "toc_cell": false,
   "toc_position": {},
   "toc_section_display": true,
   "toc_window_display": false
  }
 },
 "nbformat": 4,
 "nbformat_minor": 4
}
